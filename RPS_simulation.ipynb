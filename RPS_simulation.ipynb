{
 "cells": [
  {
   "cell_type": "markdown",
   "metadata": {},
   "source": [
    "The algorithm uses a combination of CTW and LZ. It works as follows\n",
    "1. The sequential probability is obtained from both LZ and CTW algorithms\n",
    "2. The probability values generated are also perturbed using uniform normal distribution, with zero mean and decreasing variance (variance decreases after each iterations, so that at first variance us high, giving weights to random probability than that calculated using LZ or CTW). \n",
    "3. The probabilityoputputs would then be combined to to generate one probability set, corresponding to R,P and S. \n",
    "4. During the first few moves, CTW has more weight (which decreases after each iteration) and while LZ weight is fixed, as LZ has the lowest mean universal regret\n",
    "\n",
    "LZ has the lowest regret for stationary ergodic processes, and CTW has better convergence properties than LZ for certain cases. Since we are using a combination of both, when both algorithms strongly favor a move, that is played. Otherwise, the move will be played by the algorithm with more confidence."
   ]
  },
  {
   "cell_type": "markdown",
   "metadata": {},
   "source": [
    "## Load Modules"
   ]
  },
  {
   "cell_type": "code",
   "execution_count": 151,
   "metadata": {
    "collapsed": true
   },
   "outputs": [],
   "source": [
    "import numpy\n",
    "import RPSmodule"
   ]
  },
  {
   "cell_type": "markdown",
   "metadata": {},
   "source": [
    "## Initialise RPS agent class"
   ]
  },
  {
   "cell_type": "code",
   "execution_count": 163,
   "metadata": {},
   "outputs": [],
   "source": [
    "class RPS:\n",
    "    def __init__(self, dict1,max_depth=10):\n",
    "        '''function to initialise RPS agent\n",
    "        Inputs\n",
    "        dict1: dictionary of rock, paper scissors moves {'P': 0, 'R': 1, 'S': 2}\n",
    "        max_depth: maximum depth of context tree\n",
    "        '''\n",
    "        \n",
    "        self.i =0\n",
    "        \n",
    "        # CTW initialisation\n",
    "        self.max_depth = 10\n",
    "        self.code_tree = RPSmodule.CTree(dict1, max_depth,full= False)\n",
    "        temp = list(dict1.keys())[0]\n",
    "        self.s0 = temp*max_depth\n",
    "\n",
    "        # LZ initialisation\n",
    "        self.temp1 = '' # temporary to find code words\n",
    "        self.alphabet = alph # set of alphabets\n",
    "        self.code_tree1 = RPSmodule.Tree(dict1) # initalising LZ code tree\n",
    "\n",
    "    def play(self,input1):\n",
    "        '''function to play RPS game\n",
    "        Inputs\n",
    "        input1 : move from opponent'''\n",
    "        \n",
    "        char = input1\n",
    "        self.i += 1\n",
    "        res = []\n",
    "\n",
    "        # CTW\n",
    "        state = self.s0\n",
    "        # if a new state is found, create nodes corresponding to that state\n",
    "        if self.code_tree.is_present(state) == False:\n",
    "            self.code_tree.add_branch(state)\n",
    "\n",
    "        res.append( self.code_tree.calc_prob(state,char) + np.random.normal(0,10/np.sqrt(self.i),3) )\n",
    "        self.s0 = self.s0[1:]+char\n",
    "\n",
    "        # LZ\n",
    "        self.temp1 += char\n",
    "        res.append( self.code_tree1.calc_prob(self.temp1[:-1]) + np.random.normal(0,10/np.sqrt(self.i),3) )\n",
    "        # if a new code word has to be created (unique sequence never before seen)\n",
    "        if self.code_tree1.calc_leafs(self.temp1)==0: # when we find new code words\n",
    "            self.code_tree1.add_nodes(self.temp1)\n",
    "            self.temp1 = \"\" # for finding new code words, by going back to the root of the tree\n",
    "\n",
    "        res = np.array(res)\n",
    "\n",
    "        # Weighted combination\n",
    "        output = alph[ np.argmax( (10*res[0,:]/np.sqrt(self.i)) + (res[1,:]) ) ]\n",
    "        print(\"Output of agent = \", output)\n",
    "#         return output\n",
    "\n",
    "\n",
    "alph = [\"R\",\"P\",\"S\"]\n",
    "dict1 = RPSmodule.chars_to_dict(alph)\n",
    "agent = RPS(dict1,10)"
   ]
  },
  {
   "cell_type": "markdown",
   "metadata": {},
   "source": [
    "## Play moves"
   ]
  },
  {
   "cell_type": "code",
   "execution_count": 164,
   "metadata": {},
   "outputs": [
    {
     "name": "stdout",
     "output_type": "stream",
     "text": [
      "Output of agent =  R\n"
     ]
    }
   ],
   "source": [
    "input_move = \"S\"\n",
    "agent.play(input_move)"
   ]
  },
  {
   "cell_type": "code",
   "execution_count": null,
   "metadata": {
    "collapsed": true
   },
   "outputs": [],
   "source": []
  }
 ],
 "metadata": {
  "kernelspec": {
   "display_name": "Python 3",
   "language": "python",
   "name": "python3"
  },
  "language_info": {
   "codemirror_mode": {
    "name": "ipython",
    "version": 3
   },
   "file_extension": ".py",
   "mimetype": "text/x-python",
   "name": "python",
   "nbconvert_exporter": "python",
   "pygments_lexer": "ipython3",
   "version": "3.6.4"
  }
 },
 "nbformat": 4,
 "nbformat_minor": 2
}
