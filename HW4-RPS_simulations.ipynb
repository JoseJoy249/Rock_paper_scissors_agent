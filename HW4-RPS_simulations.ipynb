{
 "cells": [
  {
   "cell_type": "markdown",
   "metadata": {},
   "source": [
    "### ECE 225B: Universal Probability and Applications @UCSD\n",
    "http://circuit.ucsd.edu/~yhk/ece225b-spr18/"
   ]
  },
  {
   "cell_type": "markdown",
   "metadata": {},
   "source": [
    "# Homework 4: Rock-Paper-Scissors competition\n",
    "\n",
    "- **Due: June 15, 2018, 11:59 PM**\n",
    "- Late homework will never be accepted.\n",
    "- The homework will be collected through Gradescope. Please follow the submission instruction on Piazza.\n",
    "- Please read the following problems carefully, and **write down your code as clearly as possible and add suitable comments.**\n",
    "\n",
    "\n",
    "- **NAME**: JOSE JOY\n",
    "- **PID**: A53230620"
   ]
  },
  {
   "cell_type": "markdown",
   "metadata": {},
   "source": [
    "In this homework, we implement a rock-paper-scissors agent.\n",
    "We will use the platform on the website http://www.rpscontest.com/ to test the performance of the codes, so please implement your code with the format.\n",
    "\n",
    "The attached files inculde:\n",
    "- rpsrunner.py: The match runner provided by rpscontest.com (http://www.rpscontest.com/rpsrunner.py). This version is adapted to Python 3, and few minor I/O formats have been adjusted from the original code.\n",
    "- 'rpsbots\\': This folder contains the currently top-ranked 20 bots on rpscontest.com. Excluding few apparent duplicates, there are total 16 bots. 'ref.xlsx' file contains the snapshot of the leaderboard at the time of cropping.\n",
    "- mybot.py: This is a sample code which plays uniformly at random among (R,P,S)."
   ]
  },
  {
   "cell_type": "markdown",
   "metadata": {},
   "source": [
    "You can learn how to use 'rpsrunner.py' in the following. The ```%run``` command allows us to run a python code in a notebook cell.\n",
    "For the details, see https://ipython.readthedocs.io/en/stable/interactive/magics.html#magic-run."
   ]
  },
  {
   "cell_type": "code",
   "execution_count": 1,
   "metadata": {},
   "outputs": [
    {
     "name": "stdout",
     "output_type": "stream",
     "text": [
      "\n",
      "Rock-Paper-Scissors Runner v1.0.1 (http://www.rpscontest.com/)\n",
      "   rpsrunner.py [options] <POOL1> [POOL2]\n",
      "   rpsrunner.py [options] bot1.py bot2.py bot3.py\n",
      "\n",
      "   Options:\n",
      "     -h|--help         Print this usage output\n",
      "     -l|--low          Run the process at a lower priority to keep the\n",
      "                       system responsive.\n",
      "     -m|--matches <N>  How many matches to play for each pairing [def: 10]\n",
      "     -t|--threads <N>  How many execution threads to use [def: 40]\n",
      "        The multiprocessing module must be available to use more than one\n",
      "        execution thread.  On this host, multiprocessing is: AVAILABLE\n",
      "\n",
      "    Additional arguments:\n",
      "\n",
      "      Pool format:    bot1.py,bot2.py[,bot3.py,...]\n",
      "      or         :    \"bot*.py\"\n",
      "\n",
      "    You must specify at least two bot files in one or two pools.  If one\n",
      "    pool is specified, all bots in that pool will play against every other\n",
      "    bot for the number of matches specified.\n",
      "\n",
      "    If two pools are specified, all the bots in each pool will play all the\n",
      "    bots in the other pool.\n",
      "\n",
      "    Example:\n",
      "        rpsrunner.py -t 4 -m 100 mybot.py \"rpsbots/*.py\"\n",
      "        rpsrunner.py mybot1.py,mybot2.py \"rpsbots/*.py\"\n",
      "\n",
      "NOTE: Bots run through this script have full access to the Python\n",
      "interpreter, so they could use it to do all sorts of nasty things to your\n",
      "computer.  You must review the code for any bot you want to run, and if\n",
      "you're not sure what the bot does, then you shouldn't run it.\n"
     ]
    }
   ],
   "source": [
    "%run -i rpsrunner -h"
   ]
  },
  {
   "cell_type": "markdown",
   "metadata": {},
   "source": [
    "For example, you can run matches between your bot and all the opponents in the ```rpsbots/``` folder as follows.\n",
    "As one may expect, no agent can beat the random player consistently."
   ]
  },
  {
   "cell_type": "code",
   "execution_count": 38,
   "metadata": {
    "scrolled": false
   },
   "outputs": [
    {
     "name": "stdout",
     "output_type": "stream",
     "text": [
      "Pool 1: 1 bots loaded\n",
      "Pool 2: 16 bots loaded\n",
      "Playing 100 matches per pairing.\n",
      "Running matches in 4 threads\n",
      "1600 matches run\n",
      "total run time: 475.36 seconds\n",
      "\n",
      "rpsbots/bot6.py: won 59.0% of matches (59 of 100)\n",
      "    won 33.6% of rounds (33557 of 100000)\n",
      "    avg score 1.5, net score 154.0\n",
      "\n",
      "rpsbots/bot15.py: won 57.0% of matches (57 of 100)\n",
      "    won 33.5% of rounds (33477 of 100000)\n",
      "    avg score 2.9, net score 286.0\n",
      "\n",
      "rpsbots/bot12.py: won 56.0% of matches (56 of 100)\n",
      "    won 33.6% of rounds (33642 of 100000)\n",
      "    avg score 4.5, net score 448.0\n",
      "\n",
      "rpsbots/bot14.py: won 55.0% of matches (55 of 100)\n",
      "    won 33.5% of rounds (33489 of 100000)\n",
      "    avg score 2.8, net score 280.0\n",
      "\n",
      "rpsbots/bot10.py: won 54.0% of matches (54 of 100)\n",
      "    won 33.3% of rounds (33316 of 100000)\n",
      "    avg score 0.4, net score 42.0\n",
      "\n",
      "rpsbots/bot5.py: won 54.0% of matches (54 of 100)\n",
      "    won 33.5% of rounds (33527 of 100000)\n",
      "    avg score 3.0, net score 305.0\n",
      "\n",
      "rpsbots/bot13.py: won 53.0% of matches (53 of 100)\n",
      "    won 33.4% of rounds (33431 of 100000)\n",
      "    avg score 2.4, net score 236.0\n",
      "\n",
      "rpsbots/bot20.py: won 52.0% of matches (52 of 100)\n",
      "    won 33.2% of rounds (33162 of 100000)\n",
      "    avg score -0.7, net score -69.0\n",
      "\n",
      "rpsbots/bot16.py: won 50.0% of matches (50 of 100)\n",
      "    won 33.3% of rounds (33313 of 100000)\n",
      "    avg score -1.4, net score -139.0\n",
      "\n",
      "rpsbots/bot3.py: won 49.0% of matches (49 of 100)\n",
      "    won 33.4% of rounds (33360 of 100000)\n",
      "    avg score 0.9, net score 94.0\n",
      "\n",
      "rpsbots/bot1.py: won 48.0% of matches (48 of 100)\n",
      "    won 33.3% of rounds (33338 of 100000)\n",
      "    avg score 1.4, net score 140.0\n",
      "\n",
      "mybot.py: won 47.6% of matches (761 of 1600)\n",
      "    won 33.3% of rounds (532786 of 1600000)\n",
      "    avg score -0.5, net score -832.0\n",
      "\n",
      "rpsbots/bot17.py: won 47.0% of matches (47 of 100)\n",
      "    won 33.1% of rounds (33090 of 100000)\n",
      "    avg score -2.8, net score -279.0\n",
      "\n",
      "rpsbots/bot19.py: won 47.0% of matches (47 of 100)\n",
      "    won 33.2% of rounds (33176 of 100000)\n",
      "    avg score -2.5, net score -246.0\n",
      "\n",
      "rpsbots/bot18.py: won 46.0% of matches (46 of 100)\n",
      "    won 33.3% of rounds (33261 of 100000)\n",
      "    avg score -1.6, net score -159.0\n",
      "\n",
      "rpsbots/bot8.py: won 45.0% of matches (45 of 100)\n",
      "    won 33.4% of rounds (33382 of 100000)\n",
      "    avg score -0.1, net score -11.0\n",
      "\n",
      "rpsbots/bot4.py: won 45.0% of matches (45 of 100)\n",
      "    won 33.1% of rounds (33097 of 100000)\n",
      "    avg score -2.5, net score -250.0\n",
      "\n",
      "\n",
      "IPython CPU timings (estimated):\n",
      "  User   :       0.74 s.\n",
      "  System :       0.26 s.\n",
      "Wall time:     475.42 s.\n"
     ]
    }
   ],
   "source": [
    "%run -it rpsrunner -t 4 -m 100 mybot.py \"rpsbots/\\*.py\""
   ]
  },
  {
   "cell_type": "markdown",
   "metadata": {},
   "source": [
    "In this homework, what you have to do is to implement your own bot and report the match result obatined from\n",
    "```python\n",
    "%run -it rpsrunner -t 1 -m 100 mybot.py \"rpsbots/*.py\"\n",
    "```\n",
    "Please **explain the idea of your algorithm** and why you think that the idea would work well against other agents.\n",
    "\n",
    "For the detailed implementation instruction, see http://www.rpscontest.com/submit."
   ]
  },
  {
   "cell_type": "raw",
   "metadata": {},
   "source": [
    "Only CTW , max_depth = 25, perturb = rand norm with var = 10/np.sqrt(i)\n",
    "mybot.py: won 47.6% of matches (761 of 1600) 12/17\n",
    "    won 33.3% of rounds (532786 of 1600000)\n",
    "    avg score -0.5, net score -832.0\n"
   ]
  },
  {
   "cell_type": "raw",
   "metadata": {},
   "source": [
    "Only CTW , max_depth = 5, perturb = rand norm with var = 1/np.sqrt(i)\n",
    "mybot.py: won 47.5% of matches (760 of 1600) 12 / 17\n",
    "    won 32.5% of rounds (520169 of 1600000)\n",
    "    avg score -24.2, net score -38670.0\n",
    "\n",
    "Only CTW , max_depth = 5, perturb = rand norm with var = 20/np.sqrt(i)     \n",
    "    mybot.py: won 48.5% of matches (776 of 1600) 12/17\n",
    "    won 33.3% of rounds (532900 of 1600000)\n",
    "    avg score -0.7, net score -1155.0\n",
    "\n",
    "Only CTW , max_depth = 10, perturb = rand norm with var = 1/np.sqrt(i) \n",
    "mybot.py: won 45.7% of matches (731 of 1600) 14/17\n",
    "    won 32.5% of rounds (520505 of 1600000)\n",
    "    avg score -23.4, net score -37430.0\n",
    "\n",
    "Only CTW , max_depth = 10, perturb = rand norm with var = 10/np.sqrt(i)\n",
    "mybot.py: won 51.5% of matches (824 of 1600) 5/17\n",
    "    won 33.4% of rounds (534025 of 1600000)\n",
    "    avg score 0.9, net score 1397.0\n",
    "\n",
    "Only CTW , max_depth = 10, perturb = rand norm with var = 0.1/np.sqrt(i)\n",
    "mybot.py: won 13.3% of matches (213 of 1600) 17/17\n",
    "    won 17.6% of rounds (281301 of 1600000)\n",
    "    avg score -441.0, net score -705565.0\n",
    "    \n",
    "Only CTW , max_depth = 15, perturb = rand norm with var = 10/np.sqrt(i)\n",
    "mybot.py: won 49.6% of matches (794 of 1600) 5/17\n",
    "    won 33.4% of rounds (533857 of 1600000)\n",
    "    avg score 0.8, net score 1300.0\n",
    "\n",
    "Only LZ, perturb = rand norm with var = 1/np.sqrt(i)\n",
    "mybot.py: won 47.0% of matches (752 of 1600) 11/17\n",
    "    won 32.7% of rounds (523904 of 1600000)\n",
    "    avg score -16.7, net score -26704.0\n",
    "\n",
    "Only LZ, perturb = rand norm with var = 10/np.sqrt(i)\n",
    "mybot.py: won 47.6% of matches (761 of 1600) 11/17\n",
    "    won 33.2% of rounds (531744 of 1600000)\n",
    "    avg score -1.5, net score -2344.0\n",
    "    \n",
    "Only LZ, perturb = rand norm with var = 20/np.sqrt(i)\n",
    "mybot.py: won 49.0% of matches (784 of 1600) 9/17\n",
    "    won 33.3% of rounds (532826 of 1600000)\n",
    "    avg score -0.9, net score -1453.0\n",
    "    \n",
    "LZ and CTW,  max_depth = 3, perturb = rand norm with var = 10/np.sqrt(i), weights = (10*res[0,:]/np.sqrt(i)) and 1\n",
    "mybot.py: won 48.6% of matches (778 of 1600) 11/17\n",
    "    won 33.3% of rounds (532982 of 1600000)\n",
    "    avg score -0.3, net score -538.0\n",
    "\n",
    "LZ and CTW,  max_depth = 3, perturb = rand norm with var = 1/np.sqrt(i), weights = (10*res[0,:]/np.sqrt(i)) and 1\n",
    "mybot.py: won 45.6% of matches (730 of 1600) 13/17\n",
    "    won 32.4% of rounds (518482 of 1600000)\n",
    "    \n",
    "LZ and CTW,  max_depth = 10, perturb = rand norm with var = 10/np.sqrt(i), weights = CTW (5*res[0,:]/np.sqrt(i)) and LZ 1\n",
    "mybot.py: won 49.8% of matches (797 of 1600) 6/17\n",
    "    won 33.3% of rounds (533508 of 1600000)\n",
    "    avg score -0.3, net score -460.0\n",
    "\n",
    "LZ and CTW,  max_depth = 10, perturb = rand norm with var = 10/np.sqrt(i), weights = 1 and (5*res[0,:]/np.sqrt(i)) \n",
    "mybot.py: won 45.1% of matches (722 of 1600) 17/17\n",
    "    won 33.2% of rounds (531664 of 1600000)\n",
    "    avg score -2.4, net score -3868.0\n",
    "\n",
    "LZ and CTW,  max_depth = 10, perturb = rand norm with var = 1/np.sqrt(i), weights = (5*res[0,:]/np.sqrt(i)) and 1\n",
    "mybot.py: won 41.7% of matches (667 of 1600) 17/17\n",
    "    won 32.3% of rounds (516449 of 1600000)\n",
    "    avg score -30.1, net score -48193.0\n",
    "\n",
    "LZ and CTW,  max_depth = 10, perturb = rand norm with var = 20/np.sqrt(i), weights = (10*res[0,:]/np.sqrt(i)) and 1\n",
    "mybot.py: won 47.1% of matches (754 of 1600) 12/17\n",
    "    won 33.3% of rounds (533099 of 1600000)\n",
    "    avg score -0.9, net score -1400.0\n",
    "\n",
    "LZ and CTW,  max_depth = 5, perturb = rand norm with var = 20/np.sqrt(i), weights = (10*res[0,:]/np.sqrt(i)) and 1\n",
    "mybot.py: won 48.1% of matches (769 of 1600)\n",
    "    won 33.3% of rounds (533323 of 1600000)\n",
    "    avg score -0.5, net score -753.0\n",
    "\n",
    "LZ and CTW,  max_depth = 5, perturb = rand norm with var = 10/np.sqrt(i), weights = (10*res[0,:]/np.sqrt(i)) and 1\n",
    "mybot.py: won 48.2% of matches (772 of 1600) 13/17\n",
    "    won 33.3% of rounds (533267 of 1600000)\n",
    "    avg score -0.4, net score -679.0\n",
    "    \n"
   ]
  }
 ],
 "metadata": {
  "kernelspec": {
   "display_name": "Python 3",
   "language": "python",
   "name": "python3"
  },
  "language_info": {
   "codemirror_mode": {
    "name": "ipython",
    "version": 3
   },
   "file_extension": ".py",
   "mimetype": "text/x-python",
   "name": "python",
   "nbconvert_exporter": "python",
   "pygments_lexer": "ipython3",
   "version": "3.6.4"
  }
 },
 "nbformat": 4,
 "nbformat_minor": 2
}
